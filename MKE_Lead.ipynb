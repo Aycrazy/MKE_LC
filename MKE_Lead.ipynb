{
 "cells": [
  {
   "cell_type": "code",
   "execution_count": 1,
   "metadata": {},
   "outputs": [],
   "source": [
    "import pandas as pd\n",
    "import seaborn as sb\n",
    "import requests as req\n",
    "from helper import *\n",
    "from standardize import *\n",
    "import geopandas as gpd"
   ]
  },
  {
   "cell_type": "code",
   "execution_count": 2,
   "metadata": {},
   "outputs": [],
   "source": [
    "lead_df = pd.DataFrame(pd.read_json(soup.contents[0]).loc['records'].loc['result'])"
   ]
  },
  {
   "cell_type": "code",
   "execution_count": 3,
   "metadata": {},
   "outputs": [
    {
     "data": {
      "text/plain": [
       "(77191, 7)"
      ]
     },
     "execution_count": 3,
     "metadata": {},
     "output_type": "execute_result"
    }
   ],
   "source": [
    "lead_df.shape"
   ]
  },
  {
   "cell_type": "code",
   "execution_count": 4,
   "metadata": {},
   "outputs": [],
   "source": [
    "lead_df.rename(columns={c:camel_to_snake(c) for c in lead_df.columns}, inplace=True)"
   ]
  },
  {
   "cell_type": "code",
   "execution_count": 5,
   "metadata": {},
   "outputs": [],
   "source": [
    "crime_df = pd.DataFrame(pd.read_json(crime_soup.contents[0]).loc['records'].loc['result'])"
   ]
  },
  {
   "cell_type": "code",
   "execution_count": 6,
   "metadata": {},
   "outputs": [
    {
     "data": {
      "text/plain": [
       "(77191, 7)"
      ]
     },
     "execution_count": 6,
     "metadata": {},
     "output_type": "execute_result"
    }
   ],
   "source": [
    "crime_df.shape"
   ]
  },
  {
   "cell_type": "code",
   "execution_count": 7,
   "metadata": {},
   "outputs": [
    {
     "data": {
      "text/html": [
       "<div>\n",
       "<style scoped>\n",
       "    .dataframe tbody tr th:only-of-type {\n",
       "        vertical-align: middle;\n",
       "    }\n",
       "\n",
       "    .dataframe tbody tr th {\n",
       "        vertical-align: top;\n",
       "    }\n",
       "\n",
       "    .dataframe thead th {\n",
       "        text-align: right;\n",
       "    }\n",
       "</style>\n",
       "<table border=\"1\" class=\"dataframe\">\n",
       "  <thead>\n",
       "    <tr style=\"text-align: right;\">\n",
       "      <th></th>\n",
       "      <th>City</th>\n",
       "      <th>House Number Range</th>\n",
       "      <th>House Number contd.</th>\n",
       "      <th>State</th>\n",
       "      <th>Street Name</th>\n",
       "      <th>Zip Code</th>\n",
       "      <th>_id</th>\n",
       "    </tr>\n",
       "  </thead>\n",
       "  <tbody>\n",
       "    <tr>\n",
       "      <th>0</th>\n",
       "      <td>MILWAUKEE</td>\n",
       "      <td>100</td>\n",
       "      <td></td>\n",
       "      <td>WISCONSIN</td>\n",
       "      <td>E ABERT PL</td>\n",
       "      <td>53212</td>\n",
       "      <td>1</td>\n",
       "    </tr>\n",
       "    <tr>\n",
       "      <th>1</th>\n",
       "      <td>MILWAUKEE</td>\n",
       "      <td>940</td>\n",
       "      <td></td>\n",
       "      <td>WISCONSIN</td>\n",
       "      <td>E ABERT PL</td>\n",
       "      <td>53212</td>\n",
       "      <td>2</td>\n",
       "    </tr>\n",
       "    <tr>\n",
       "      <th>2</th>\n",
       "      <td>MILWAUKEE</td>\n",
       "      <td>1301</td>\n",
       "      <td></td>\n",
       "      <td>WISCONSIN</td>\n",
       "      <td>E ALBION ST</td>\n",
       "      <td>53202</td>\n",
       "      <td>3</td>\n",
       "    </tr>\n",
       "    <tr>\n",
       "      <th>3</th>\n",
       "      <td>MILWAUKEE</td>\n",
       "      <td>1309</td>\n",
       "      <td>11</td>\n",
       "      <td>WISCONSIN</td>\n",
       "      <td>E ALBION ST</td>\n",
       "      <td>53202</td>\n",
       "      <td>4</td>\n",
       "    </tr>\n",
       "    <tr>\n",
       "      <th>4</th>\n",
       "      <td>MILWAUKEE</td>\n",
       "      <td>1316</td>\n",
       "      <td>18</td>\n",
       "      <td>WISCONSIN</td>\n",
       "      <td>E ALBION ST</td>\n",
       "      <td>53202</td>\n",
       "      <td>5</td>\n",
       "    </tr>\n",
       "  </tbody>\n",
       "</table>\n",
       "</div>"
      ],
      "text/plain": [
       "        City House Number Range House Number contd.      State  Street Name  \\\n",
       "0  MILWAUKEE                100                      WISCONSIN   E ABERT PL   \n",
       "1  MILWAUKEE                940                      WISCONSIN   E ABERT PL   \n",
       "2  MILWAUKEE               1301                      WISCONSIN  E ALBION ST   \n",
       "3  MILWAUKEE               1309                  11  WISCONSIN  E ALBION ST   \n",
       "4  MILWAUKEE               1316                  18  WISCONSIN  E ALBION ST   \n",
       "\n",
       "  Zip Code  _id  \n",
       "0    53212    1  \n",
       "1    53212    2  \n",
       "2    53202    3  \n",
       "3    53202    4  \n",
       "4    53202    5  "
      ]
     },
     "execution_count": 7,
     "metadata": {},
     "output_type": "execute_result"
    }
   ],
   "source": [
    "crime_df.head()"
   ]
  },
  {
   "cell_type": "code",
   "execution_count": null,
   "metadata": {},
   "outputs": [],
   "source": [
    "fp = 'jun18anogeo.shp'\n",
    "map_df = gpd.read_file(fp)\n",
    "# check data type so we can see that this is not a normal dataframe, but a GEOdataframe\n",
    "map_df.head()"
   ]
  },
  {
   "cell_type": "code",
   "execution_count": null,
   "metadata": {},
   "outputs": [],
   "source": []
  }
 ],
 "metadata": {
  "kernelspec": {
   "display_name": "Python 3",
   "language": "python",
   "name": "python3"
  },
  "language_info": {
   "codemirror_mode": {
    "name": "ipython",
    "version": 3
   },
   "file_extension": ".py",
   "mimetype": "text/x-python",
   "name": "python",
   "nbconvert_exporter": "python",
   "pygments_lexer": "ipython3",
   "version": "3.6.6"
  }
 },
 "nbformat": 4,
 "nbformat_minor": 2
}
