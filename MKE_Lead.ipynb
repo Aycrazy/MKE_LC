{
 "cells": [
  {
   "cell_type": "code",
   "execution_count": null,
   "metadata": {
    "scrolled": true
   },
   "outputs": [],
   "source": [
    "import pandas as pd\n",
    "import seaborn as sb\n",
    "import requests as req\n",
    "from helper import *\n",
    "from standardize import *\n",
    "import geopandas as gpd\n"
   ]
  },
  {
   "cell_type": "code",
   "execution_count": null,
   "metadata": {},
   "outputs": [],
   "source": [
    "lead_df.head()"
   ]
  },
  {
   "cell_type": "code",
   "execution_count": null,
   "metadata": {},
   "outputs": [],
   "source": [
    "lead_df.shape"
   ]
  },
  {
   "cell_type": "code",
   "execution_count": null,
   "metadata": {},
   "outputs": [],
   "source": [
    "# crime_sl = '87843297-a6fa-46d4-ba5d-cb342fb2d3bb'\n",
    "\n",
    "# url = 'https://data.milwaukee.gov/api/3/action/datastore_search?resource_id='\n",
    "\n",
    "# limit = '250000'\n",
    "\n",
    "# offset = 0\n",
    "\n",
    "# empty = False\n",
    "\n",
    "# crime_df = pd.DataFrame()\n",
    "\n",
    "# while not empty:\n",
    "        \n",
    "#     print('offset'+ str(offset))\n",
    "    \n",
    "#     url_crime = url+crime_sl+'&limit='+limit+'&offset='+str(offset)\n",
    "    \n",
    "#     crime_set = req.get(url_crime, auth=('Authorization', api_key))\n",
    "\n",
    "#     crime_soup = BeautifulSoup(crime_set.content,'html.parser')\n",
    "        \n",
    "\n",
    "#     offset+=250000\n",
    "    \n",
    "#     if  not len(pd.DataFrame(pd.read_json(crime_soup.contents[0])).loc['records'].loc['result']):\n",
    "#         empty = True\n",
    "#     else:\n",
    "#         crime_df = crime_df.append(pd.DataFrame(pd.read_json(crime_soup.contents[0]).loc['records'].loc['result']))\n",
    "    "
   ]
  },
  {
   "cell_type": "code",
   "execution_count": null,
   "metadata": {},
   "outputs": [],
   "source": [
    "# def pull_data(url, record_id, api_key):\n",
    "    \n",
    "#     crime_sl = '87843297-a6fa-46d4-ba5d-cb342fb2d3bb'\n",
    "\n",
    "#     url = 'https://data.milwaukee.gov/api/3/action/datastore_search?resource_id='\n",
    "\n",
    "#     limit = '250000'\n",
    "\n",
    "#     offset = 0\n",
    "\n",
    "#     empty = False\n",
    "\n",
    "#     df = pd.DataFrame()\n",
    "\n",
    "#     while not empty:\n",
    "\n",
    "#         print('offset'+ str(offset))\n",
    "\n",
    "#         url_adj = url+record_id+'&limit='+limit+'&offset='+str(offset)\n",
    "\n",
    "#         records = req.get(url_adj, auth=('Authorization', api_key))\n",
    "\n",
    "#         soup = BeautifulSoup(records.content,'html.parser')\n",
    "\n",
    "\n",
    "#         offset+=250000\n",
    "\n",
    "#         if  not len(pd.DataFrame(pd.read_json(soup.contents[0])).loc['records'].loc['result']):\n",
    "#             empty = True\n",
    "#         else:\n",
    "#             df = df.append(pd.DataFrame(pd.read_json(soup.contents[0]).loc['records'].loc['result']))\n",
    "        \n",
    "#     return df\n"
   ]
  },
  {
   "cell_type": "code",
   "execution_count": null,
   "metadata": {},
   "outputs": [],
   "source": [
    "# crime_df = pull_data(url, crime_sl, api_key)"
   ]
  },
  {
   "cell_type": "code",
   "execution_count": null,
   "metadata": {},
   "outputs": [],
   "source": [
    "crime_df.head()"
   ]
  },
  {
   "cell_type": "code",
   "execution_count": null,
   "metadata": {},
   "outputs": [],
   "source": [
    "crime_df.shape"
   ]
  },
  {
   "cell_type": "code",
   "execution_count": null,
   "metadata": {},
   "outputs": [],
   "source": [
    "#runs but kills the kernel\n",
    "\n",
    "# fp = 'poldist.shp'\n",
    "# map_df = gpd.read_file(fp)\n",
    "# # check data type so we can see that this is not a normal dataframe, but a GEOdataframe\n",
    "# map_df.head()"
   ]
  },
  {
   "cell_type": "code",
   "execution_count": null,
   "metadata": {},
   "outputs": [],
   "source": [
    "# new_df = pd.merge(crime_df, lead_df,  how='left', on=['house_number_range','house_number_contd','state','street_name','zip_code'])\n"
   ]
  },
  {
   "cell_type": "code",
   "execution_count": null,
   "metadata": {},
   "outputs": [],
   "source": [
    "cfs_df.head()"
   ]
  },
  {
   "cell_type": "code",
   "execution_count": null,
   "metadata": {},
   "outputs": [],
   "source": [
    "cfs.shape"
   ]
  },
  {
   "cell_type": "code",
   "execution_count": 35,
   "metadata": {},
   "outputs": [],
   "source": [
    "from key import api_key\n",
    "from bs4 import BeautifulSoup\n",
    "import json\n",
    "\n",
    "\n",
    "url_adj = 'https://data.milwaukee.gov/dataset/b7145039-0ce3-495c-b23d-bafb34ba3a50/resource/96d96fb8-48e9-4db8-ab6a-ed9bbeda573d/download/callcenterdata.json'\n",
    "\n",
    "records = req.get(url_adj, auth=('Authorization', api_key))\n",
    "\n",
    "# soup = BeautifulSoup(records.content,'html.parser')\n",
    "\n",
    "# #df = pd.DataFrame(pd.read_json(soup.contents[0]).loc['records'].loc['result'])\n",
    "# pd.read_json(soup.contents[0])\n",
    "# #soup.contents[0]\n",
    "cfs = pd.read_json('cfs.json')\n"
   ]
  },
  {
   "cell_type": "code",
   "execution_count": null,
   "metadata": {},
   "outputs": [],
   "source": [
    "# cfs_df = pd.DataFrame()\n",
    "# for row in range(0,cfs.shape[0]):\n",
    "#     cfs_df = cfs_df.append(pd.read_json(json.dumps(cfs.iloc[0]['elements']), lines=True))"
   ]
  },
  {
   "cell_type": "code",
   "execution_count": null,
   "metadata": {},
   "outputs": [],
   "source": [
    "# cfd_df.head()"
   ]
  }
 ],
 "metadata": {
  "kernelspec": {
   "display_name": "Python 3",
   "language": "python",
   "name": "python3"
  },
  "language_info": {
   "codemirror_mode": {
    "name": "ipython",
    "version": 3
   },
   "file_extension": ".py",
   "mimetype": "text/x-python",
   "name": "python",
   "nbconvert_exporter": "python",
   "pygments_lexer": "ipython3",
   "version": "3.6.6"
  }
 },
 "nbformat": 4,
 "nbformat_minor": 2
}
