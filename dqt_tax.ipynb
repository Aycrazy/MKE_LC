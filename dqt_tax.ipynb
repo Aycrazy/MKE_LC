{
 "cells": [
  {
   "cell_type": "code",
   "execution_count": 1,
   "metadata": {},
   "outputs": [],
   "source": [
    "import pandas as pd\n",
    "import seaborn as sb\n",
    "import requests as req\n",
    "from helper import *\n",
    "from standardize import *\n",
    "import re\n",
    "import os\n",
    "import missingno as msno"
   ]
  },
  {
   "cell_type": "code",
   "execution_count": 2,
   "metadata": {},
   "outputs": [
    {
     "name": "stdout",
     "output_type": "stream",
     "text": [
      "offset0\n",
      "offset250000\n"
     ]
    }
   ],
   "source": [
    "url = 'https://data.milwaukee.gov/api/3/action/datastore_search?resource_id='\n",
    "dqt = 'f3d9a9ed-6d26-4c12-942c-67ce0af66c03'\n",
    "dqt_07_18_df = pull_data(url, dqt, api_key)"
   ]
  },
  {
   "cell_type": "code",
   "execution_count": 1,
   "metadata": {},
   "outputs": [],
   "source": [
    "# url = 'https://data.milwaukee.gov/api/3/action/datastore_search_sql?'\n",
    "# # https://data.milwaukee.gov/api/3/action/datastore_search_sql?sql=SELECT * from \"0a2c7f31-cd15-4151-8222-09dd57d5f16d\" WHERE title LIKE 'jones'\n",
    "# mprop = 'sql=select * from \"0a2c7f31-cd15-4151-8222-09dd57d5f16d\" where land_use LIKE \"5141\" OR land_use LIKE \"5149\" OR land_use\" LIKE \"5411\"'"
   ]
  },
  {
   "cell_type": "code",
   "execution_count": 3,
   "metadata": {},
   "outputs": [
    {
     "name": "stdout",
     "output_type": "stream",
     "text": [
      "offset0\n",
      "offset250000\n"
     ]
    }
   ],
   "source": [
    "dqt_Aug = 'd817fa1e-753b-4233-a7de-02baf83bfbd4'\n",
    "dqt_08_18_df = pull_data(url, dqt, api_key)"
   ]
  },
  {
   "cell_type": "code",
   "execution_count": 11,
   "metadata": {},
   "outputs": [
    {
     "name": "stdout",
     "output_type": "stream",
     "text": [
      "  Ald Dist       City Int / Pen Due Levy Year Owner's Mailing Address  \\\n",
      "0        9  MILWAUKEE       758.85       2017         9300 N 124TH ST   \n",
      "1        9  MILWAUKEE        39.04       2017         9168 N 124TH ST   \n",
      "\n",
      "             Owner's Name Owner's Name 2 Property Location State   Tax Key #  \\\n",
      "0       PRAEGER REV TRUST           None   9300 N 124TH ST    WI  0010021000   \n",
      "1  SHORELINE SUPPORT CORP           None   9200 N 124TH ST    WI  0019992100   \n",
      "\n",
      "  Tax Principal Due   Total Due         Zip  _id  \n",
      "0         7,227.31    7,986.16   53224-4408    1  \n",
      "1           371.83      410.87        53224    2  \n",
      "Index(['Ald Dist', 'City', 'Int / Pen Due', 'Levy Year',\n",
      "       'Owner's Mailing Address', 'Owner's Name', 'Owner's Name 2',\n",
      "       'Property Location', 'State', 'Tax Key #', 'Tax Principal Due',\n",
      "       'Total Due', 'Zip', '_id'],\n",
      "      dtype='object')\n",
      "(22485, 14)\n",
      "  Ald Dist       City Int / Pen Due Levy Year Owner's Mailing Address  \\\n",
      "0        9  MILWAUKEE       758.85       2017         9300 N 124TH ST   \n",
      "1        9  MILWAUKEE        39.04       2017         9168 N 124TH ST   \n",
      "\n",
      "             Owner's Name Owner's Name 2 Property Location State   Tax Key #  \\\n",
      "0       PRAEGER REV TRUST           None   9300 N 124TH ST    WI  0010021000   \n",
      "1  SHORELINE SUPPORT CORP           None   9200 N 124TH ST    WI  0019992100   \n",
      "\n",
      "  Tax Principal Due   Total Due         Zip  _id  \n",
      "0         7,227.31    7,986.16   53224-4408    1  \n",
      "1           371.83      410.87        53224    2  \n",
      "Index(['Ald Dist', 'City', 'Int / Pen Due', 'Levy Year',\n",
      "       'Owner's Mailing Address', 'Owner's Name', 'Owner's Name 2',\n",
      "       'Property Location', 'State', 'Tax Key #', 'Tax Principal Due',\n",
      "       'Total Due', 'Zip', '_id'],\n",
      "      dtype='object')\n",
      "(22485, 14)\n"
     ]
    }
   ],
   "source": [
    "print(dqt_07_18_df.head(2))\n",
    "print(dqt_07_18_df.columns)\n",
    "print(dqt_07_18_df.shape)\n",
    "print(dqt_08_18_df.head(2))\n",
    "print(dqt_08_18_df.columns)\n",
    "print(dqt_08_18_df.shape)"
   ]
  },
  {
   "cell_type": "code",
   "execution_count": 12,
   "metadata": {},
   "outputs": [
    {
     "data": {
      "text/plain": [
       "(44970, 14)"
      ]
     },
     "execution_count": 12,
     "metadata": {},
     "output_type": "execute_result"
    }
   ],
   "source": [
    "dqt_df = dqt_07_18_df.append(dqt_08_18_df)\n",
    "dqt_df.shape"
   ]
  },
  {
   "cell_type": "code",
   "execution_count": null,
   "metadata": {},
   "outputs": [],
   "source": []
  }
 ],
 "metadata": {
  "kernelspec": {
   "display_name": "Python 3",
   "language": "python",
   "name": "python3"
  },
  "language_info": {
   "codemirror_mode": {
    "name": "ipython",
    "version": 3
   },
   "file_extension": ".py",
   "mimetype": "text/x-python",
   "name": "python",
   "nbconvert_exporter": "python",
   "pygments_lexer": "ipython3",
   "version": "3.6.6"
  }
 },
 "nbformat": 4,
 "nbformat_minor": 2
}
